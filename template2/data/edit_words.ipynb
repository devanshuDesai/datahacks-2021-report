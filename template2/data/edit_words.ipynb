{
 "cells": [
  {
   "cell_type": "code",
   "execution_count": 8,
   "id": "champion-flight",
   "metadata": {},
   "outputs": [],
   "source": [
    "import pandas as pd\n",
    "import numpy as np"
   ]
  },
  {
   "cell_type": "code",
   "execution_count": 9,
   "id": "civil-accordance",
   "metadata": {},
   "outputs": [],
   "source": [
    "df = pd.read_csv('wordsOld.tsv', sep = '\\t')"
   ]
  },
  {
   "cell_type": "code",
   "execution_count": 12,
   "id": "palestinian-worse",
   "metadata": {},
   "outputs": [
    {
     "data": {
      "text/plain": [
       "array([0, 0, 0, ..., 0, 0, 0])"
      ]
     },
     "execution_count": 12,
     "metadata": {},
     "output_type": "execute_result"
    }
   ],
   "source": [
    "np.random.choice([1, 0], p = [.033, .967], size=len(df))"
   ]
  },
  {
   "cell_type": "code",
   "execution_count": 19,
   "id": "sacred-offering",
   "metadata": {},
   "outputs": [],
   "source": [
    "df['filler'] = np.random.choice([1, 0], p = [.033, .967], size=len(df))"
   ]
  },
  {
   "cell_type": "code",
   "execution_count": 20,
   "id": "animal-momentum",
   "metadata": {},
   "outputs": [],
   "source": [
    "len_to_keep = int(len(df) / 75) * 75\n",
    "df = df.iloc[:len_to_keep]"
   ]
  },
  {
   "cell_type": "code",
   "execution_count": 22,
   "id": "arabic-cover",
   "metadata": {},
   "outputs": [],
   "source": [
    "df.to_csv('words.tsv', sep = '\\t', index=False)"
   ]
  },
  {
   "cell_type": "code",
   "execution_count": null,
   "id": "exterior-aberdeen",
   "metadata": {},
   "outputs": [],
   "source": []
  }
 ],
 "metadata": {
  "kernelspec": {
   "display_name": "Python 3",
   "language": "python",
   "name": "python3"
  },
  "language_info": {
   "codemirror_mode": {
    "name": "ipython",
    "version": 3
   },
   "file_extension": ".py",
   "mimetype": "text/x-python",
   "name": "python",
   "nbconvert_exporter": "python",
   "pygments_lexer": "ipython3",
   "version": "3.8.5"
  }
 },
 "nbformat": 4,
 "nbformat_minor": 5
}
