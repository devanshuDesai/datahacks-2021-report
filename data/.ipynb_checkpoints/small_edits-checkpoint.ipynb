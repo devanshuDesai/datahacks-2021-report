{
 "cells": [
  {
   "cell_type": "code",
   "execution_count": 2,
   "id": "first-mason",
   "metadata": {},
   "outputs": [],
   "source": [
    "import pandas as pd\n",
    "import numpy as np"
   ]
  },
  {
   "cell_type": "markdown",
   "id": "visible-parker",
   "metadata": {},
   "source": [
    "# words.tsv"
   ]
  },
  {
   "cell_type": "code",
   "execution_count": 9,
   "id": "original-yemen",
   "metadata": {},
   "outputs": [],
   "source": [
    "df = pd.read_csv('wordsOld.tsv', sep = '\\t')"
   ]
  },
  {
   "cell_type": "code",
   "execution_count": 12,
   "id": "western-cream",
   "metadata": {},
   "outputs": [
    {
     "data": {
      "text/plain": [
       "array([0, 0, 0, ..., 0, 0, 0])"
      ]
     },
     "execution_count": 12,
     "metadata": {},
     "output_type": "execute_result"
    }
   ],
   "source": [
    "np.random.choice([1, 0], p = [.033, .967], size=len(df))"
   ]
  },
  {
   "cell_type": "code",
   "execution_count": 19,
   "id": "trying-kingston",
   "metadata": {},
   "outputs": [],
   "source": [
    "df['filler'] = np.random.choice([1, 0], p = [.033, .967], size=len(df))"
   ]
  },
  {
   "cell_type": "code",
   "execution_count": 20,
   "id": "eleven-jurisdiction",
   "metadata": {},
   "outputs": [],
   "source": [
    "len_to_keep = int(len(df) / 75) * 75\n",
    "df = df.iloc[:len_to_keep]"
   ]
  },
  {
   "cell_type": "code",
   "execution_count": 22,
   "id": "fifth-semester",
   "metadata": {},
   "outputs": [],
   "source": [
    "df.to_csv('words.tsv', sep = '\\t', index=False)"
   ]
  },
  {
   "cell_type": "markdown",
   "id": "fiscal-empty",
   "metadata": {},
   "source": [
    "# sp500.csv"
   ]
  },
  {
   "cell_type": "code",
   "execution_count": 3,
   "id": "medium-style",
   "metadata": {},
   "outputs": [],
   "source": [
    "df = pd.read_csv('sp500Old.csv')"
   ]
  },
  {
   "cell_type": "code",
   "execution_count": 6,
   "id": "excited-cardiff",
   "metadata": {},
   "outputs": [],
   "source": [
    "df = df.dropna()"
   ]
  },
  {
   "cell_type": "code",
   "execution_count": 8,
   "id": "unique-bedroom",
   "metadata": {},
   "outputs": [],
   "source": [
    "df.to_csv('sp500.csv', index=False)"
   ]
  }
 ],
 "metadata": {
  "kernelspec": {
   "display_name": "Python 3",
   "language": "python",
   "name": "python3"
  },
  "language_info": {
   "codemirror_mode": {
    "name": "ipython",
    "version": 3
   },
   "file_extension": ".py",
   "mimetype": "text/x-python",
   "name": "python",
   "nbconvert_exporter": "python",
   "pygments_lexer": "ipython3",
   "version": "3.8.5"
  }
 },
 "nbformat": 4,
 "nbformat_minor": 5
}
